{
  "cells": [
    {
      "cell_type": "markdown",
      "source": [
        "# Reading Progress Module Notebook"
      ],
      "metadata": {
        "nteract": {
          "transient": {
            "deleting": false
          }
        }
      }
    },
    {
      "cell_type": "code",
      "source": [
        "%run /OEA_py"
      ],
      "outputs": [
        {
          "output_type": "display_data",
          "data": {
            "application/vnd.livy.statement-meta+json": {
              "spark_pool": null,
              "session_id": "83",
              "statement_id": -1,
              "state": "finished",
              "livy_statement_state": "available",
              "queued_time": "2022-12-20T18:43:34.5337875Z",
              "session_start_time": null,
              "execution_start_time": "2022-12-20T18:43:35.0926826Z",
              "execution_finish_time": "2022-12-20T18:43:35.0930707Z",
              "spark_jobs": null
            },
            "text/plain": "StatementMeta(, 83, -1, Finished, Available)"
          },
          "metadata": {}
        },
        {
          "output_type": "stream",
          "name": "stdout",
          "text": [
            "2022-12-20 18:43:34,835 - OEA - DEBUG - OEA initialized.\n2022-12-20 18:43:34,835 - OEA - DEBUG - OEA initialized.\nOEA initialized.\n"
          ]
        }
      ],
      "execution_count": 2,
      "metadata": {
        "jupyter": {
          "source_hidden": false,
          "outputs_hidden": false
        },
        "nteract": {
          "transient": {
            "deleting": false
          }
        }
      }
    },
    {
      "cell_type": "code",
      "source": [
        "# 0) Initialize the OEA framework.\r\n",
        "oea = OEA()"
      ],
      "outputs": [
        {
          "output_type": "display_data",
          "data": {
            "application/vnd.livy.statement-meta+json": {
              "spark_pool": "spark3p1sm",
              "session_id": "83",
              "statement_id": 3,
              "state": "finished",
              "livy_statement_state": "available",
              "queued_time": "2022-12-20T18:43:34.607856Z",
              "session_start_time": null,
              "execution_start_time": "2022-12-20T18:43:35.2400504Z",
              "execution_finish_time": "2022-12-20T18:43:35.4035642Z",
              "spark_jobs": null
            },
            "text/plain": "StatementMeta(spark3p1sm, 83, 3, Finished, Available)"
          },
          "metadata": {}
        },
        {
          "output_type": "stream",
          "name": "stdout",
          "text": [
            "2022-12-20 18:43:35,196 - OEA - DEBUG - OEA initialized.\n2022-12-20 18:43:35,196 - OEA - DEBUG - OEA initialized.\n2022-12-20 18:43:35,196 - OEA - DEBUG - OEA initialized.\nOEA initialized.\n"
          ]
        }
      ],
      "execution_count": 3,
      "metadata": {
        "jupyter": {
          "source_hidden": false,
          "outputs_hidden": false
        },
        "nteract": {
          "transient": {
            "deleting": false
          }
        }
      }
    },
    {
      "cell_type": "markdown",
      "source": [
        "## Data Loading and Subsetting"
      ],
      "metadata": {
        "nteract": {
          "transient": {
            "deleting": false
          }
        }
      }
    },
    {
      "cell_type": "code",
      "source": [
        "#Loading the data\r\n",
        "from pyspark.sql.types import IntegerType\r\n",
        "\r\n",
        "dfInsights_techActivity = oea.load('M365', 'TechActivity_pseudo')\r\n",
        "\r\n",
        "dfInsights_aaduserpersonmapping = oea.load('M365', 'AadUserPersonMapping_pseudo')\r\n",
        "dfInsights_person = oea.load('M365', 'Person_pseudo')\r\n",
        "dfInsights_personOrgRole = oea.load('M365', 'PersonOrganizationRole_pseudo')\r\n",
        "dfInsights_organization = oea.load('M365', 'Organization_pseudo')\r\n",
        "dfInsights_refDefinition = oea.load('M365', 'RefDefinition_pseudo')"
      ],
      "outputs": [
        {
          "output_type": "display_data",
          "data": {
            "application/vnd.livy.statement-meta+json": {
              "spark_pool": "spark3p1sm",
              "session_id": "83",
              "statement_id": 4,
              "state": "finished",
              "livy_statement_state": "available",
              "queued_time": "2022-12-20T18:43:34.6833323Z",
              "session_start_time": null,
              "execution_start_time": "2022-12-20T18:43:35.5468511Z",
              "execution_finish_time": "2022-12-20T18:44:42.7993456Z",
              "spark_jobs": null
            },
            "text/plain": "StatementMeta(spark3p1sm, 83, 4, Finished, Available)"
          },
          "metadata": {}
        }
      ],
      "execution_count": 4,
      "metadata": {
        "jupyter": {
          "source_hidden": false,
          "outputs_hidden": false
        },
        "nteract": {
          "transient": {
            "deleting": false
          }
        }
      }
    },
    {
      "cell_type": "code",
      "source": [
        "#Subsetting and joining the data\r\n",
        "dfInsights = dfInsights_personOrgRole.join(dfInsights_person, dfInsights_personOrgRole.PersonId_pseudonym == dfInsights_person.Id_pseudonym, how='inner')\r\n",
        "dfInsights = dfInsights.select('PersonId_pseudonym', 'Surname', 'GivenName', 'MiddleName', 'RefRoleId', 'RefGradeLevelId', 'OrganizationId')\r\n",
        "\r\n",
        "dfInsights = dfInsights.join(dfInsights_organization, dfInsights.OrganizationId == dfInsights_organization.Id, how='inner')\r\n",
        "dfInsights = dfInsights.withColumnRenamed('Name', 'OrganizationName')\r\n",
        "dfInsights = dfInsights.select('PersonId_pseudonym', 'Surname', 'GivenName', 'MiddleName', 'RefRoleId', 'RefGradeLevelId', 'OrganizationId', 'OrganizationName')\r\n",
        "\r\n",
        "dfInsights = dfInsights.join(dfInsights_refDefinition, dfInsights.RefRoleId == dfInsights_refDefinition.Id, how='inner')\r\n",
        "dfInsights = dfInsights.withColumnRenamed('Code', 'PersonRole')\r\n",
        "dfInsights = dfInsights.select('PersonId_pseudonym', 'Surname', 'GivenName', 'MiddleName', 'PersonRole', 'RefGradeLevelId', 'OrganizationId', 'OrganizationName')\r\n",
        "\r\n",
        "dfInsights = dfInsights.join(dfInsights_refDefinition, dfInsights.RefGradeLevelId == dfInsights_refDefinition.Id, how='inner')\r\n",
        "dfInsights = dfInsights.withColumnRenamed('Code', 'StudentGrade')\r\n",
        "dfInsights = dfInsights.select('PersonId_pseudonym', 'Surname', 'GivenName', 'MiddleName', 'PersonRole', 'StudentGrade', 'OrganizationId', 'OrganizationName')\r\n",
        "\r\n",
        "dfInsights_aaduserpersonmapping = dfInsights_aaduserpersonmapping.withColumnRenamed('PersonId_pseudonym', 'StudentId_internal_pseudonym')\r\n",
        "dfInsights = dfInsights.join(dfInsights_aaduserpersonmapping, dfInsights.PersonId_pseudonym == dfInsights_aaduserpersonmapping.StudentId_internal_pseudonym, how='inner')\r\n",
        "dfInsights = dfInsights.withColumnRenamed('ObjectId_pseudonym', 'StudentId_external_pseudonym')\r\n",
        "dfInsights = dfInsights.select('StudentId_internal_pseudonym', 'StudentId_external_pseudonym', 'Surname', 'GivenName', 'MiddleName', 'PersonRole', 'StudentGrade', 'OrganizationId', 'OrganizationName')\r\n",
        "display(dfInsights.limit(5))"
      ],
      "outputs": [
        {
          "output_type": "display_data",
          "data": {
            "application/vnd.livy.statement-meta+json": {
              "spark_pool": "spark3p1sm",
              "session_id": "83",
              "statement_id": 5,
              "state": "finished",
              "livy_statement_state": "available",
              "queued_time": "2022-12-20T18:43:34.8061477Z",
              "session_start_time": null,
              "execution_start_time": "2022-12-20T18:44:42.9372333Z",
              "execution_finish_time": "2022-12-20T18:44:54.1737592Z",
              "spark_jobs": null
            },
            "text/plain": "StatementMeta(spark3p1sm, 83, 5, Finished, Available)"
          },
          "metadata": {}
        },
        {
          "output_type": "display_data",
          "data": {
            "application/vnd.synapse.widget-view+json": {
              "widget_id": "32974c31-246a-484c-b306-bab8001953ac",
              "widget_type": "Synapse.DataFrame"
            },
            "text/plain": "SynapseWidget(Synapse.DataFrame, 32974c31-246a-484c-b306-bab8001953ac)"
          },
          "metadata": {}
        }
      ],
      "execution_count": 5,
      "metadata": {
        "jupyter": {
          "source_hidden": false,
          "outputs_hidden": false
        },
        "nteract": {
          "transient": {
            "deleting": false
          }
        },
        "collapsed": false
      }
    },
    {
      "cell_type": "code",
      "source": [
        "dfReadingProgress = dfInsights_techActivity.where(\"AppName == 'ReadingProgress'\")\r\n",
        "dfReadingProgress = dfReadingProgress.select('ActorId_pseudonym', 'SignalType', 'StartTime', 'AppName', 'Action', 'ReadingSubmissionWordsPerMinute', 'ReadingSubmissionAccuracyScore', 'ReadingSubmissionRepetitionsCount', 'ReadingSubmissionInsertionsCount', 'ReadingSubmissionMispronunciationCount', 'ReadingSubmissionObmissionCount', 'ReadingSubmissionAttemptNumber', 'ReadingAssignmentWordCount', 'ReadingAssignmentFleschKincaidGradeLevel', 'ReadingAssignmentLanguage')\r\n",
        "dfReadingProgress = dfReadingProgress.withColumn('ReadingSubmissionAccuracyScore', dfReadingProgress['ReadingSubmissionAccuracyScore'].cast(IntegerType()))\r\n",
        "display(dfReadingProgress.limit(5))"
      ],
      "outputs": [
        {
          "output_type": "display_data",
          "data": {
            "application/vnd.livy.statement-meta+json": {
              "spark_pool": "spark3p1sm",
              "session_id": "83",
              "statement_id": 6,
              "state": "finished",
              "livy_statement_state": "available",
              "queued_time": "2022-12-20T18:43:34.9081058Z",
              "session_start_time": null,
              "execution_start_time": "2022-12-20T18:44:54.3247187Z",
              "execution_finish_time": "2022-12-20T18:44:57.6269167Z",
              "spark_jobs": null
            },
            "text/plain": "StatementMeta(spark3p1sm, 83, 6, Finished, Available)"
          },
          "metadata": {}
        },
        {
          "output_type": "display_data",
          "data": {
            "application/vnd.synapse.widget-view+json": {
              "widget_id": "37e04d0c-e95f-4125-acc1-ffc264c1f618",
              "widget_type": "Synapse.DataFrame"
            },
            "text/plain": "SynapseWidget(Synapse.DataFrame, 37e04d0c-e95f-4125-acc1-ffc264c1f618)"
          },
          "metadata": {}
        }
      ],
      "execution_count": 6,
      "metadata": {
        "jupyter": {
          "source_hidden": false,
          "outputs_hidden": false
        },
        "nteract": {
          "transient": {
            "deleting": false
          }
        },
        "collapsed": false
      }
    },
    {
      "cell_type": "markdown",
      "source": [
        "## Data Aggregations"
      ],
      "metadata": {
        "nteract": {
          "transient": {
            "deleting": false
          }
        }
      }
    },
    {
      "cell_type": "code",
      "source": [
        "from pyspark.sql import functions as F\r\n",
        "dfReadingProgress = dfReadingProgress.withColumn('ReadingSubmissionRepetitionsRate', F.col('ReadingSubmissionRepetitionsCount')/F.col('ReadingAssignmentWordCount') * 100) \r\n",
        "dfReadingProgress = dfReadingProgress.withColumn('ReadingSubmissionMispronunciationRate', F.col('ReadingSubmissionMispronunciationCount')/F.col('ReadingAssignmentWordCount') * 100) \r\n",
        "dfReadingProgress = dfReadingProgress.withColumn('ReadingSubmissionInsertionsRate', F.col('ReadingSubmissionInsertionsCount')/F.col('ReadingAssignmentWordCount') * 100) \r\n",
        "dfReadingProgress = dfReadingProgress.withColumn('ReadingSubmissionObmissionRate', F.col('ReadingSubmissionObmissionCount')/F.col('ReadingAssignmentWordCount') * 100) \r\n",
        "display(dfReadingProgress.limit(5))"
      ],
      "outputs": [
        {
          "output_type": "display_data",
          "data": {
            "application/vnd.livy.statement-meta+json": {
              "spark_pool": "spark3p1sm",
              "session_id": "83",
              "statement_id": 7,
              "state": "finished",
              "livy_statement_state": "available",
              "queued_time": "2022-12-20T18:43:34.9729491Z",
              "session_start_time": null,
              "execution_start_time": "2022-12-20T18:44:57.7591018Z",
              "execution_finish_time": "2022-12-20T18:45:00.6381651Z",
              "spark_jobs": null
            },
            "text/plain": "StatementMeta(spark3p1sm, 83, 7, Finished, Available)"
          },
          "metadata": {}
        },
        {
          "output_type": "display_data",
          "data": {
            "application/vnd.synapse.widget-view+json": {
              "widget_id": "c5d08973-19fb-4adf-b6b7-01b8ba862225",
              "widget_type": "Synapse.DataFrame"
            },
            "text/plain": "SynapseWidget(Synapse.DataFrame, c5d08973-19fb-4adf-b6b7-01b8ba862225)"
          },
          "metadata": {}
        }
      ],
      "execution_count": 7,
      "metadata": {
        "jupyter": {
          "source_hidden": false,
          "outputs_hidden": false
        },
        "nteract": {
          "transient": {
            "deleting": false
          }
        },
        "collapsed": false
      }
    },
    {
      "cell_type": "markdown",
      "source": [
        "## Write to Stage 2p"
      ],
      "metadata": {
        "nteract": {
          "transient": {
            "deleting": false
          }
        }
      }
    },
    {
      "cell_type": "code",
      "source": [
        "dfReadingProgress.coalesce(1).write.format('delta').mode('overwrite').option('header', True).save(oea.stage2p + '/reading_progress/ReadingProgress_pseudo')\r\n",
        "dfInsights.coalesce(1).write.format('delta').mode('overwrite').option('header', True).save(oea.stage2p + '/reading_progress/Student_pseudo')\r\n"
      ],
      "outputs": [
        {
          "output_type": "display_data",
          "data": {
            "application/vnd.livy.statement-meta+json": {
              "spark_pool": "spark3p1sm",
              "session_id": "83",
              "statement_id": 8,
              "state": "finished",
              "livy_statement_state": "available",
              "queued_time": "2022-12-20T18:43:35.0981101Z",
              "session_start_time": null,
              "execution_start_time": "2022-12-20T18:45:00.7669225Z",
              "execution_finish_time": "2022-12-20T18:46:24.0650222Z",
              "spark_jobs": null
            },
            "text/plain": "StatementMeta(spark3p1sm, 83, 8, Finished, Available)"
          },
          "metadata": {}
        }
      ],
      "execution_count": 8,
      "metadata": {
        "jupyter": {
          "source_hidden": false,
          "outputs_hidden": false
        },
        "nteract": {
          "transient": {
            "deleting": false
          }
        }
      }
    }
  ],
  "metadata": {
    "kernelspec": {
      "name": "synapse_pyspark",
      "language": "Python",
      "display_name": "Synapse PySpark"
    },
    "language_info": {
      "name": "python"
    },
    "kernel_info": {
      "name": "synapse_pyspark"
    },
    "description": null,
    "save_output": true,
    "synapse_widget": {
      "version": "0.1",
      "state": {
        "32974c31-246a-484c-b306-bab8001953ac": {
          "type": "Synapse.DataFrame",
          "sync_state": {
            "table": {
              "rows": [
                {
                  "0": "c7a6a548514696f2cabebd3d38534b8361c8716633295a4c8e71d98199ef2e71",
                  "1": "e919d1612b18c5f6505e04e8843fe9774198c0de4c84c0ef17c033b45cfe35fd",
                  "2": "*",
                  "3": "*",
                  "4": "*",
                  "5": "Student",
                  "6": "9",
                  "7": "ab2a9665-ce87-4120-a8b5-edd392875e42",
                  "8": "Mitchell High"
                },
                {
                  "0": "6bc9a18a3dcff4010d78e8707fbfccebd6ea80ca7c7d8abcf47c194ff36ca9a1",
                  "1": "5931763df30af35c6b83421ac630b8b647cf5d5405f8b65b7e49a4b9300e0ea1",
                  "2": "*",
                  "3": "*",
                  "4": "*",
                  "5": "Student",
                  "6": "11",
                  "7": "ab2a9665-ce87-4120-a8b5-edd392875e42",
                  "8": "Mitchell High"
                },
                {
                  "0": "f9aa4222728f10dc0bfb02296a6850123722bd8f3da62dd09019499b7f440a71",
                  "1": "bbee57a9314742a12e4490f868f7484e6ae24a4c07c998b681fdde2938d84a09",
                  "2": "*",
                  "3": "*",
                  "4": "*",
                  "5": "Student",
                  "6": "10",
                  "7": "ab2a9665-ce87-4120-a8b5-edd392875e42",
                  "8": "Mitchell High"
                },
                {
                  "0": "741fd0392de15ce5de201e071c6611ed64c1f01a81f9043ec40f03cf6d71be52",
                  "1": "2efbbf9e4cae48d02d440582f196b91c2b76bf24d58387d76ce5c453fe088fa8",
                  "2": "*",
                  "3": "*",
                  "4": "*",
                  "5": "Student",
                  "6": "11",
                  "7": "ab2a9665-ce87-4120-a8b5-edd392875e42",
                  "8": "Mitchell High"
                },
                {
                  "0": "899e96422ff81809b165d9e19296d581f67ae2965e7146cf1f1d5ab9908f5838",
                  "1": "62198b3154089acf0d1464dacbf7d35ee5f62822a27c066bfc26faa85cef7ee8",
                  "2": "*",
                  "3": "*",
                  "4": "*",
                  "5": "Student",
                  "6": "11",
                  "7": "ab2a9665-ce87-4120-a8b5-edd392875e42",
                  "8": "Mitchell High"
                }
              ],
              "schema": [
                {
                  "key": "0",
                  "name": "StudentId_internal_pseudonym",
                  "type": "string"
                },
                {
                  "key": "1",
                  "name": "StudentId_external_pseudonym",
                  "type": "string"
                },
                {
                  "key": "2",
                  "name": "Surname",
                  "type": "string"
                },
                {
                  "key": "3",
                  "name": "GivenName",
                  "type": "string"
                },
                {
                  "key": "4",
                  "name": "MiddleName",
                  "type": "string"
                },
                {
                  "key": "5",
                  "name": "PersonRole",
                  "type": "string"
                },
                {
                  "key": "6",
                  "name": "StudentGrade",
                  "type": "string"
                },
                {
                  "key": "7",
                  "name": "OrganizationId",
                  "type": "string"
                },
                {
                  "key": "8",
                  "name": "OrganizationName",
                  "type": "string"
                }
              ],
              "truncated": false
            },
            "isSummary": false,
            "language": "scala"
          },
          "persist_state": {
            "view": {
              "type": "details",
              "tableOptions": {},
              "chartOptions": {
                "chartType": "bar",
                "aggregationType": "count",
                "categoryFieldKeys": [
                  "0"
                ],
                "seriesFieldKeys": [
                  "0"
                ],
                "isStacked": false
              }
            }
          }
        },
        "37e04d0c-e95f-4125-acc1-ffc264c1f618": {
          "type": "Synapse.DataFrame",
          "sync_state": {
            "table": {
              "rows": [
                {
                  "0": "7604eacf22fefc264c3e1f0f403810f19b24dc434abdcfd0bce950517607f42d",
                  "1": "ReadingSubmission",
                  "2": "2022-01-15 00:00:00",
                  "3": "ReadingProgress",
                  "4": "Attempt",
                  "5": "48",
                  "6": "95",
                  "7": "6",
                  "8": "57",
                  "9": "21",
                  "10": "17",
                  "11": "0",
                  "12": "63"
                },
                {
                  "0": "1cf1a405ec7188616f9f54f373254562a0e6268f74aafb30b4162e9a2a5b5dfb",
                  "1": "ReadingSubmission",
                  "2": "2022-01-16 00:00:00",
                  "3": "ReadingProgress",
                  "4": "Attempt",
                  "5": "102",
                  "6": "78",
                  "7": "2",
                  "8": "48",
                  "9": "22",
                  "10": "1",
                  "11": "1",
                  "12": "265"
                },
                {
                  "0": "332d44a381ad70ccc6cda544e2f06e59e262567979020d6dbb2c592c334783a7",
                  "1": "ReadingSubmission",
                  "2": "2022-01-17 00:00:00",
                  "3": "ReadingProgress",
                  "4": "Attempt",
                  "5": "63",
                  "6": "65",
                  "7": "0",
                  "8": "71",
                  "9": "18",
                  "10": "4",
                  "11": "2",
                  "12": "63"
                },
                {
                  "0": "95add9b0bfe58cd5bf833a7e60f39197c335fff83974f2fc84e6d309f7b13280",
                  "1": "ReadingSubmission",
                  "2": "2022-01-20 00:00:00",
                  "3": "ReadingProgress",
                  "4": "Attempt",
                  "5": "61",
                  "6": "99",
                  "7": "4",
                  "8": "30",
                  "9": "4",
                  "10": "31",
                  "11": "3",
                  "12": "378"
                },
                {
                  "0": "91392159e15bfce7e92efe775ac6670fd653874889f12bc01c12c820720aacf1",
                  "1": "ReadingSubmission",
                  "2": "2022-01-21 00:00:00",
                  "3": "ReadingProgress",
                  "4": "Visited",
                  "5": "53",
                  "6": "80",
                  "7": "4",
                  "8": "17",
                  "9": "3",
                  "10": "31",
                  "11": "3",
                  "12": "362"
                }
              ],
              "schema": [
                {
                  "key": "0",
                  "name": "ActorId_pseudonym",
                  "type": "string"
                },
                {
                  "key": "1",
                  "name": "SignalType",
                  "type": "string"
                },
                {
                  "key": "2",
                  "name": "StartTime",
                  "type": "timestamp"
                },
                {
                  "key": "3",
                  "name": "AppName",
                  "type": "string"
                },
                {
                  "key": "4",
                  "name": "Action",
                  "type": "string"
                },
                {
                  "key": "5",
                  "name": "ReadingSubmissionWordsPerMinute",
                  "type": "int"
                },
                {
                  "key": "6",
                  "name": "ReadingSubmissionAccuracyScore",
                  "type": "int"
                },
                {
                  "key": "7",
                  "name": "ReadingSubmissionRepetitionsCount",
                  "type": "int"
                },
                {
                  "key": "8",
                  "name": "ReadingSubmissionInsertionsCount",
                  "type": "int"
                },
                {
                  "key": "9",
                  "name": "ReadingSubmissionMispronunciationCount",
                  "type": "int"
                },
                {
                  "key": "10",
                  "name": "ReadingSubmissionObmissionCount",
                  "type": "int"
                },
                {
                  "key": "11",
                  "name": "ReadingSubmissionAttemptNumber",
                  "type": "int"
                },
                {
                  "key": "12",
                  "name": "ReadingAssignmentWordCount",
                  "type": "int"
                },
                {
                  "key": "13",
                  "name": "ReadingAssignmentFleschKincaidGradeLevel",
                  "type": "string"
                },
                {
                  "key": "14",
                  "name": "ReadingAssignmentLanguage",
                  "type": "string"
                }
              ],
              "truncated": false
            },
            "isSummary": false,
            "language": "scala"
          },
          "persist_state": {
            "view": {
              "type": "details",
              "tableOptions": {},
              "chartOptions": {
                "chartType": "bar",
                "aggregationType": "sum",
                "categoryFieldKeys": [
                  "0"
                ],
                "seriesFieldKeys": [
                  "5"
                ],
                "isStacked": false
              }
            }
          }
        },
        "c5d08973-19fb-4adf-b6b7-01b8ba862225": {
          "type": "Synapse.DataFrame",
          "sync_state": {
            "table": {
              "rows": [
                {
                  "0": "7604eacf22fefc264c3e1f0f403810f19b24dc434abdcfd0bce950517607f42d",
                  "1": "ReadingSubmission",
                  "2": "2022-01-15 00:00:00",
                  "3": "ReadingProgress",
                  "4": "Attempt",
                  "5": "48",
                  "6": "95",
                  "7": "6",
                  "8": "57",
                  "9": "21",
                  "10": "17",
                  "11": "0",
                  "12": "63",
                  "15": "9.523809523809524",
                  "16": "33.33333333333333",
                  "17": "90.47619047619048",
                  "18": "26.984126984126984"
                },
                {
                  "0": "1cf1a405ec7188616f9f54f373254562a0e6268f74aafb30b4162e9a2a5b5dfb",
                  "1": "ReadingSubmission",
                  "2": "2022-01-16 00:00:00",
                  "3": "ReadingProgress",
                  "4": "Attempt",
                  "5": "102",
                  "6": "78",
                  "7": "2",
                  "8": "48",
                  "9": "22",
                  "10": "1",
                  "11": "1",
                  "12": "265",
                  "15": "0.7547169811320755",
                  "16": "8.30188679245283",
                  "17": "18.11320754716981",
                  "18": "0.37735849056603776"
                },
                {
                  "0": "332d44a381ad70ccc6cda544e2f06e59e262567979020d6dbb2c592c334783a7",
                  "1": "ReadingSubmission",
                  "2": "2022-01-17 00:00:00",
                  "3": "ReadingProgress",
                  "4": "Attempt",
                  "5": "63",
                  "6": "65",
                  "7": "0",
                  "8": "71",
                  "9": "18",
                  "10": "4",
                  "11": "2",
                  "12": "63",
                  "15": "0.0",
                  "16": "28.57142857142857",
                  "17": "112.6984126984127",
                  "18": "6.349206349206349"
                },
                {
                  "0": "95add9b0bfe58cd5bf833a7e60f39197c335fff83974f2fc84e6d309f7b13280",
                  "1": "ReadingSubmission",
                  "2": "2022-01-20 00:00:00",
                  "3": "ReadingProgress",
                  "4": "Attempt",
                  "5": "61",
                  "6": "99",
                  "7": "4",
                  "8": "30",
                  "9": "4",
                  "10": "31",
                  "11": "3",
                  "12": "378",
                  "15": "1.0582010582010581",
                  "16": "1.0582010582010581",
                  "17": "7.936507936507936",
                  "18": "8.201058201058201"
                },
                {
                  "0": "91392159e15bfce7e92efe775ac6670fd653874889f12bc01c12c820720aacf1",
                  "1": "ReadingSubmission",
                  "2": "2022-01-21 00:00:00",
                  "3": "ReadingProgress",
                  "4": "Visited",
                  "5": "53",
                  "6": "80",
                  "7": "4",
                  "8": "17",
                  "9": "3",
                  "10": "31",
                  "11": "3",
                  "12": "362",
                  "15": "1.1049723756906076",
                  "16": "0.8287292817679558",
                  "17": "4.696132596685083",
                  "18": "8.56353591160221"
                }
              ],
              "schema": [
                {
                  "key": "0",
                  "name": "ActorId_pseudonym",
                  "type": "string"
                },
                {
                  "key": "1",
                  "name": "SignalType",
                  "type": "string"
                },
                {
                  "key": "2",
                  "name": "StartTime",
                  "type": "timestamp"
                },
                {
                  "key": "3",
                  "name": "AppName",
                  "type": "string"
                },
                {
                  "key": "4",
                  "name": "Action",
                  "type": "string"
                },
                {
                  "key": "5",
                  "name": "ReadingSubmissionWordsPerMinute",
                  "type": "int"
                },
                {
                  "key": "6",
                  "name": "ReadingSubmissionAccuracyScore",
                  "type": "int"
                },
                {
                  "key": "7",
                  "name": "ReadingSubmissionRepetitionsCount",
                  "type": "int"
                },
                {
                  "key": "8",
                  "name": "ReadingSubmissionInsertionsCount",
                  "type": "int"
                },
                {
                  "key": "9",
                  "name": "ReadingSubmissionMispronunciationCount",
                  "type": "int"
                },
                {
                  "key": "10",
                  "name": "ReadingSubmissionObmissionCount",
                  "type": "int"
                },
                {
                  "key": "11",
                  "name": "ReadingSubmissionAttemptNumber",
                  "type": "int"
                },
                {
                  "key": "12",
                  "name": "ReadingAssignmentWordCount",
                  "type": "int"
                },
                {
                  "key": "13",
                  "name": "ReadingAssignmentFleschKincaidGradeLevel",
                  "type": "string"
                },
                {
                  "key": "14",
                  "name": "ReadingAssignmentLanguage",
                  "type": "string"
                },
                {
                  "key": "15",
                  "name": "ReadingSubmissionRepetitionsRate",
                  "type": "double"
                },
                {
                  "key": "16",
                  "name": "ReadingSubmissionMispronunciationRate",
                  "type": "double"
                },
                {
                  "key": "17",
                  "name": "ReadingSubmissionInsertionsRate",
                  "type": "double"
                },
                {
                  "key": "18",
                  "name": "ReadingSubmissionObmissionRate",
                  "type": "double"
                }
              ],
              "truncated": false
            },
            "isSummary": false,
            "language": "scala"
          },
          "persist_state": {
            "view": {
              "type": "details",
              "tableOptions": {},
              "chartOptions": {
                "chartType": "bar",
                "aggregationType": "sum",
                "categoryFieldKeys": [
                  "0"
                ],
                "seriesFieldKeys": [
                  "5"
                ],
                "isStacked": false
              }
            }
          }
        }
      }
    }
  },
  "nbformat": 4,
  "nbformat_minor": 2
}